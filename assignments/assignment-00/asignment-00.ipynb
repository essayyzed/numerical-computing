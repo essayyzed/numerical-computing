{
 "cells": [
  {
   "cell_type": "markdown",
   "source": [
    "# Vector of Two Elements"
   ],
   "metadata": {}
  },
  {
   "cell_type": "code",
   "execution_count": 58,
   "source": [
    "class Vector:\n",
    "    def __init__(self, x=0.0, y=0.0):\n",
    "        self.x = x\n",
    "        self.y = y\n",
    "        \n",
    "    def __str__(self):\n",
    "        return \"[{}, {}]\".format(str(self.x), str(self.y))\n",
    "    \n",
    "    def sum(self):\n",
    "       return self.x + self.y"
   ],
   "outputs": [],
   "metadata": {}
  },
  {
   "cell_type": "markdown",
   "source": [
    "# Addition"
   ],
   "metadata": {}
  },
  {
   "cell_type": "code",
   "execution_count": 59,
   "source": [
    "def add(self, b):\n",
    "    ''' \n",
    "    Here `b` is of type Vector class, we don't declare the datatype in python due to which\n",
    "    the datatype of `b` is not specified \n",
    "    '''\n",
    "    c = Vector()\n",
    "    c.x = self.x + b.x\n",
    "    c.y = self.y + b.y\n",
    "    return c\n",
    "\n",
    "Vector.add = add"
   ],
   "outputs": [],
   "metadata": {}
  },
  {
   "cell_type": "code",
   "execution_count": 60,
   "source": [
    "a = Vector(5, 6)\n",
    "b = Vector(1, 8)"
   ],
   "outputs": [],
   "metadata": {}
  },
  {
   "cell_type": "code",
   "execution_count": 61,
   "source": [
    "c = a.add(b)\n",
    "print(c)"
   ],
   "outputs": [
    {
     "output_type": "stream",
     "name": "stdout",
     "text": [
      "[6, 14]\n"
     ]
    }
   ],
   "metadata": {}
  },
  {
   "cell_type": "markdown",
   "source": [
    "# Multiplication"
   ],
   "metadata": {}
  },
  {
   "cell_type": "code",
   "execution_count": 62,
   "source": [
    "def mul(self, s):\n",
    "    return Vector(s * self.x , s * self.y)\n",
    "Vector.mul = mul"
   ],
   "outputs": [],
   "metadata": {}
  },
  {
   "cell_type": "code",
   "execution_count": 63,
   "source": [
    "d = a.mul(2)\n",
    "print(c)\n"
   ],
   "outputs": [
    {
     "output_type": "stream",
     "name": "stdout",
     "text": [
      "[6, 14]\n"
     ]
    }
   ],
   "metadata": {}
  },
  {
   "cell_type": "markdown",
   "source": [
    "# Subtraction"
   ],
   "metadata": {}
  },
  {
   "cell_type": "code",
   "execution_count": 64,
   "source": [
    "def sub(self, b):\n",
    "    # we use the definition of Maths here\n",
    "    # i.e. Head to Tail Rule\n",
    "    # instead of defining something new\n",
    "    \n",
    "    return self.add(b.mul(-1))\n",
    "Vector.sub = sub"
   ],
   "outputs": [],
   "metadata": {}
  },
  {
   "cell_type": "code",
   "execution_count": 65,
   "source": [
    "d_min_b = d.sub(b)\n",
    "print(d_min_b)"
   ],
   "outputs": [
    {
     "output_type": "stream",
     "name": "stdout",
     "text": [
      "[9, 4]\n"
     ]
    }
   ],
   "metadata": {}
  },
  {
   "cell_type": "markdown",
   "source": [
    "# Dot Product"
   ],
   "metadata": {}
  },
  {
   "cell_type": "code",
   "execution_count": 66,
   "source": [
    "def DotProduct(self, b):\n",
    "    c = Vector()\n",
    "    c.x = self.x * b.x\n",
    "    c.y = self.y * b.y\n",
    "    return c.sum()\n",
    "Vector.DotProduct = DotProduct\n"
   ],
   "outputs": [],
   "metadata": {}
  },
  {
   "cell_type": "code",
   "execution_count": 67,
   "source": [
    "d = Vector(1, 2)\n",
    "c = Vector(4, 5)\n"
   ],
   "outputs": [],
   "metadata": {}
  },
  {
   "cell_type": "code",
   "execution_count": 68,
   "source": [
    "d.DotProduct(c)\n"
   ],
   "outputs": [
    {
     "output_type": "execute_result",
     "data": {
      "text/plain": [
       "14"
      ]
     },
     "metadata": {},
     "execution_count": 68
    }
   ],
   "metadata": {}
  },
  {
   "cell_type": "markdown",
   "source": [
    "# Vector of Three Elements"
   ],
   "metadata": {}
  },
  {
   "cell_type": "markdown",
   "source": [
    "The idea is basically same as that of the Vector having three vectors the only difference is that instead of defining two members only, define the three members instead"
   ],
   "metadata": {}
  },
  {
   "cell_type": "code",
   "execution_count": 115,
   "source": [
    "class Vector_3:\n",
    "    def __init__(self, x = 0.0, y = 0.0, z = 0.0):\n",
    "        self.x = x\n",
    "        self.y = y\n",
    "        self.z = z\n",
    "        \n",
    "    def __str__(self):\n",
    "        return \"[{}, {}, {}]\".format( str(self.x), str(self.y), str(self.z) )\n",
    "    \n",
    "    def sum(self):\n",
    "        return self.x + self.y + self.z\n"
   ],
   "outputs": [],
   "metadata": {}
  },
  {
   "cell_type": "markdown",
   "source": [
    "# Addition"
   ],
   "metadata": {}
  },
  {
   "cell_type": "code",
   "execution_count": 116,
   "source": [
    "def add(self, a):\n",
    "    c = Vector_3()\n",
    "    c.x = self.x + a.x\n",
    "    c.y = self.y + a.y\n",
    "    c.z = self.z + a.z\n",
    "    \n",
    "    return c\n",
    "\n",
    "Vector_3.add = add"
   ],
   "outputs": [],
   "metadata": {}
  },
  {
   "cell_type": "code",
   "execution_count": 117,
   "source": [
    "a = Vector_3(2, 1, 3)\n",
    "b = Vector_3(5, 1, 2)\n",
    "\n",
    "c = a.add(b)\n",
    "print(c)"
   ],
   "outputs": [
    {
     "output_type": "stream",
     "name": "stdout",
     "text": [
      "[7, 2, 5]\n"
     ]
    }
   ],
   "metadata": {}
  },
  {
   "cell_type": "markdown",
   "source": [
    "# Multiplication"
   ],
   "metadata": {}
  },
  {
   "cell_type": "code",
   "execution_count": 118,
   "source": [
    "def mul(self, s):\n",
    "    return Vector_3(s * self.x, s * self.y, s * self.z)\n",
    "Vector_3.mul = mul\n"
   ],
   "outputs": [],
   "metadata": {}
  },
  {
   "cell_type": "code",
   "execution_count": 119,
   "source": [
    "mul_a_3 = a.mul(3)\n",
    "print(mul_a_3)"
   ],
   "outputs": [
    {
     "output_type": "stream",
     "name": "stdout",
     "text": [
      "[6, 3, 9]\n"
     ]
    }
   ],
   "metadata": {}
  },
  {
   "cell_type": "markdown",
   "source": [
    "# Subtraction"
   ],
   "metadata": {}
  },
  {
   "cell_type": "code",
   "execution_count": 120,
   "source": [
    "def sub(self, b):\n",
    "    return self.add(b.mul(-1))\n",
    "Vector_3.sub = sub"
   ],
   "outputs": [],
   "metadata": {}
  },
  {
   "cell_type": "code",
   "execution_count": 121,
   "source": [
    "a_sub = a.sub(b)\n",
    "print(a_sub)"
   ],
   "outputs": [
    {
     "output_type": "stream",
     "name": "stdout",
     "text": [
      "[-3, 0, 1]\n"
     ]
    }
   ],
   "metadata": {}
  },
  {
   "cell_type": "markdown",
   "source": [
    "# Dot Product of Three Vectors"
   ],
   "metadata": {}
  },
  {
   "cell_type": "code",
   "execution_count": 122,
   "source": [
    "def DotProduct(self, b):\n",
    "    c = Vector_3()\n",
    "    c.x = self.x * b.x\n",
    "    c.y = self.y * b.y\n",
    "    c.z = self.z * b.z\n",
    "    return c.sum()\n",
    "\n",
    "\n",
    "Vector_3.DotProduct = DotProduct\n"
   ],
   "outputs": [],
   "metadata": {}
  },
  {
   "cell_type": "code",
   "execution_count": 124,
   "source": [
    "a_DotProduct_b = a.DotProduct(b)\n",
    "print(a_DotProduct_b)"
   ],
   "outputs": [
    {
     "output_type": "stream",
     "name": "stdout",
     "text": [
      "17\n"
     ]
    }
   ],
   "metadata": {}
  },
  {
   "cell_type": "code",
   "execution_count": 125,
   "source": [
    "v_n = Vector_3(4, 4, 4, 4)"
   ],
   "outputs": [
    {
     "output_type": "error",
     "ename": "TypeError",
     "evalue": "__init__() takes from 1 to 4 positional arguments but 5 were given",
     "traceback": [
      "\u001b[0;31m---------------------------------------------------------------------------\u001b[0m",
      "\u001b[0;31mTypeError\u001b[0m                                 Traceback (most recent call last)",
      "\u001b[0;32m/tmp/ipykernel_489571/1552019417.py\u001b[0m in \u001b[0;36m<module>\u001b[0;34m\u001b[0m\n\u001b[0;32m----> 1\u001b[0;31m \u001b[0mv_n\u001b[0m \u001b[0;34m=\u001b[0m \u001b[0mVector_3\u001b[0m\u001b[0;34m(\u001b[0m\u001b[0;36m4\u001b[0m\u001b[0;34m,\u001b[0m \u001b[0;36m4\u001b[0m\u001b[0;34m,\u001b[0m \u001b[0;36m4\u001b[0m\u001b[0;34m,\u001b[0m \u001b[0;36m4\u001b[0m\u001b[0;34m)\u001b[0m\u001b[0;34m\u001b[0m\u001b[0;34m\u001b[0m\u001b[0m\n\u001b[0m",
      "\u001b[0;31mTypeError\u001b[0m: __init__() takes from 1 to 4 positional arguments but 5 were given"
     ]
    }
   ],
   "metadata": {}
  },
  {
   "cell_type": "code",
   "execution_count": null,
   "source": [],
   "outputs": [],
   "metadata": {}
  }
 ],
 "metadata": {
  "orig_nbformat": 4,
  "language_info": {
   "name": "python",
   "version": "3.8.8",
   "mimetype": "text/x-python",
   "codemirror_mode": {
    "name": "ipython",
    "version": 3
   },
   "pygments_lexer": "ipython3",
   "nbconvert_exporter": "python",
   "file_extension": ".py"
  },
  "kernelspec": {
   "name": "python3",
   "display_name": "Python 3.8.8 64-bit ('base': conda)"
  },
  "interpreter": {
   "hash": "ef4478ebed788aa297e0304067e0f32c738bb20c9de8ab34fa6ed9e67ebd07ad"
  }
 },
 "nbformat": 4,
 "nbformat_minor": 2
}